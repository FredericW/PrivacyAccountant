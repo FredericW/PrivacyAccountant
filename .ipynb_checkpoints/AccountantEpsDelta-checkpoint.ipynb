{
 "cells": [
  {
   "cell_type": "code",
   "execution_count": null,
   "id": "fe79419f",
   "metadata": {},
   "outputs": [],
   "source": [
    "'''\n",
    "\n",
    "----------------------------------------------\n",
    "Generating Epsilon-Delta curves\n",
    "\n",
    "last updated: 06/10/2022\n",
    "----------------------------------------------\n",
    "The method used here are: \n",
    "FFT-Fei, FFT-Gopi, Saddlepoint Accountant, \n",
    "Moments Accountant.\n",
    "----------------------------------------------\n",
    "'''"
   ]
  },
  {
   "cell_type": "code",
   "execution_count": 3,
   "id": "44a67e68",
   "metadata": {},
   "outputs": [
    {
     "name": "stdout",
     "output_type": "stream",
     "text": [
      "KL= 0.006386136344532448\n"
     ]
    },
    {
     "data": {
      "image/png": "[encoded data removed]",
      "text/plain": [
       "<Figure size 432x288 with 1 Axes>"
      ]
     },
     "metadata": {
      "needs_background": "light"
     },
     "output_type": "display_data"
    }
   ],
   "source": [
    "import numpy as np\n",
    "import matplotlib.pyplot as plt\n",
    "from pq_bounds import pq_upper\n",
    "from pq_bounds import pq_lower\n",
    "\n",
    "# We first set parameters\n",
    "\n",
    "composition = 500\n",
    "sen = 1\n",
    "subsampling = 0.1\n",
    "C=1\n",
    "c_type='l2'\n",
    "noise_type='gaussian'\n",
    "\n",
    "if noise_type == \"cactus\":\n",
    "    filename = ('TestData/cactusM_s%.1f_%s_c%.2f_x.csv' %(sen,c_type,C))\n",
    "    x = np.genfromtxt(filename, dtype=np.float32)\n",
    "    x_grid = x.reshape(-1)\n",
    "    \n",
    "    filename = ('TestData/cactusM_s%.1f_%s_c%.2f_p.csv' %(sen,c_type,C))\n",
    "    p = np.genfromtxt(filename, dtype=np.float32)\n",
    "    p = p.reshape(len(p),1)\n",
    "    \n",
    "    n=int(1/(x[1]-x[0]))\n",
    "    x_max=max(x_grid)\n",
    "    po = p[0:-sen*n-1]\n",
    "    print(np.shape(po))\n",
    "    qo = subsampling*p[sen*n+1:]+(1-subsampling)*po\n",
    "    print(np.shape(qo))\n",
    "\n",
    "else:\n",
    "    \n",
    "    if noise_type==\"gaussian\":\n",
    "        sigma=np.sqrt(C)\n",
    "        f = lambda x: 1/np.sqrt(2*np.pi)/sigma*np.exp(-x**2/2/sigma**2)\n",
    "\n",
    "    if noise_type == \"laplace\":\n",
    "        b = np.sqrt(C/2)\n",
    "        f = lambda x:1/2/b*np.exp(-np.abs(x)/b)\n",
    "    \n",
    "    x_max = sigma*7\n",
    "    x_step_size=1e-3\n",
    "    n = int(1/x_step_size)\n",
    "    x_grid = np.arange(-x_max, x_max,x_step_size)\n",
    "    po = np.array([f(X) for X in x_grid])*x_step_size\n",
    "    qo = subsampling*np.array([f(X) for X in x_grid-sen])*x_step_size+(1-subsampling)*po\n",
    "    \n",
    "KL = np.sum(po*np.log(po/qo))\n",
    "print(\"KL=\",KL)\n",
    "\n",
    "plt.figure\n",
    "\n",
    "plt.plot(x_grid, po,label = (\"p(x)\"),linewidth=2)\n",
    "plt.plot(x_grid, qo,label = (\"q(x)\"),linewidth=2)\n",
    "\n",
    "plt.xlabel(r\"x\",fontsize=13)\n",
    "plt.ylabel(r\"pdf\",fontsize=13)\n",
    "plt.legend(loc='best')\n",
    "plt.grid()\n",
    "\n",
    "Eg = lambda gamma: np.sum(np.maximum(0,po-gamma*qo))\n",
    "\n",
    "# Next, we sample the Egamma curve uniformly\n",
    "if noise_type == \"gaussian\":\n",
    "    if subsampling !=1:\n",
    "        rate = po/qo\n",
    "        gamma_max = np.max(rate)\n",
    "        gamma_min = np.min(rate)\n",
    "    else:\n",
    "        gamma_max = np.min(10,np.exp(composition*KL*3))\n",
    "else:\n",
    "    rate = po/qo\n",
    "    gamma_max = np.max(rate)\n",
    "    gamma_min = np.min(rate)\n",
    "\n",
    "l_step_size = 1e-4\n",
    "l_grid = np.arange(np.log(gamma_min),np.log(gamma_max),l_step_size)\n",
    "\n"
   ]
  },
  {
   "cell_type": "code",
   "execution_count": 24,
   "id": "6b580a9c",
   "metadata": {},
   "outputs": [
    {
     "name": "stdout",
     "output_type": "stream",
     "text": [
      "Eg_grid_shape= (43152,)\n",
      "aa_shape= (43150,)\n",
      "bb_shape= (43150,)\n",
      "q_shape= (43150,)\n",
      "q_shape= (43153,)\n",
      "gamma_grid_shape= (43152,)\n",
      "p_shape= (43154,)\n"
     ]
    },
    {
     "data": {
      "text/plain": [
       "[<matplotlib.lines.Line2D at 0x7f890ea1e3d0>]"
      ]
     },
     "execution_count": 24,
     "metadata": {},
     "output_type": "execute_result"
    },
    {
     "data": {
      "image/png": "[encoded data removed]",
      "text/plain": [
       "<Figure size 432x288 with 1 Axes>"
      ]
     },
     "metadata": {
      "needs_background": "light"
     },
     "output_type": "display_data"
    }
   ],
   "source": [
    "'''\n",
    "----------------------------------------------\n",
    "FFT-Fei:\n",
    "----------------------------------------------\n",
    "Step 1: Obtain a E-gamma curve on gamma_grid via function Eg(gamma_grid) -> Eg_grid\n",
    "\n",
    "Step 2(a): Obtain distribution pair upper bounding Eg_grid -> (p2,q2)\n",
    "      (b): Use (eps_grid,p2) as a random variable L_low \n",
    "      (c): Perform FFT and iFFT to get convoluted (l_grid_padding,fLConvFFT_array2)\n",
    "      (d): Compute the Egamma_upper()\n",
    "\n",
    "Step 3(a): Obtain distribution pair lower bounding Eg_grid -> (p3,q3)\n",
    "      (b): Use (eps_grid,p3) as a random variable L_low \n",
    "      (c): Perform FFT and iFFT to get convoluted (l_grid_padding,fLConvFFT_array3)\n",
    "      (d): Compute the Egamma_lower()\n",
    "----------------------------------------------\n",
    "'''\n",
    "gamma_grid = np.exp(l_grid)\n",
    "\n",
    "\n",
    "# def pq_upper(Eg,gamma_grid):\n",
    "    \n",
    "#     Eg_grid = [Eg(gamma) for gamma in gamma_grid]\n",
    "#     Eg_grid = np.array(Eg_grid)\n",
    "#     print(\"Eg_grid_shape=\",np.shape(Eg_grid))\n",
    "    \n",
    "#     # We are ready to compute the new (p3,q3) pairs, which is unifom on log(gamma)\n",
    "#     aa = np.array((Eg_grid[2:]-Eg_grid[1:-1])/(gamma_grid[2:]-gamma_grid[1:-1]))\n",
    "#     print(\"aa_shape=\",np.shape(aa))\n",
    "#     bb = np.array((Eg_grid[1:-1]-Eg_grid[0:-2])/(gamma_grid[1:-1]-gamma_grid[0:-2]))\n",
    "#     print(\"bb_shape=\",np.shape(bb))\n",
    "    \n",
    "#     init_slope = (Eg_grid[0]-1)/gamma_grid[0]\n",
    "#     q = aa-bb\n",
    "#     print(\"q_shape=\",np.shape(q))\n",
    "#     q = np.concatenate(([1+init_slope],[bb[0]-init_slope],q,[-aa[-1]]))\n",
    "#     print(\"q_shape=\",np.shape(q))           \n",
    "#     print(\"gamma_grid_shape=\",np.shape(gamma_grid))\n",
    "#     p = np.concatenate(([0],q[1:]*gamma_grid))\n",
    "#     q = np.concatenate((q,[0]))\n",
    "#     p = np.concatenate((p,[np.maximum(0,1-sum(p))]))\n",
    "#     print(\"p_shape=\",np.shape(p)) \n",
    "#     return p,q\n",
    "\n",
    "# Again, we use Egamma2 for verifing the result, it should be an upper bound of the true Egamma curve.\n",
    "p2,q2 = pq_upper(Eg,gamma_grid);\n",
    "\n",
    "plt.figure\n",
    "\n",
    "plt.plot(p2,linewidth=2)\n",
    "plt.plot(q2,linewidth=2)\n",
    "\n",
    "# Lastly, we get a lower bounding discrete model (p3,q3).\n",
    "# Egslope = @(gamma) -sum(qo*)\n",
    "# Egslope = @(gamma) -sum(qo[po>gamma*qo]);\n",
    "# [p3,q3] = pq_lower(Eg,Egslope,gamma_grid2);"
   ]
  },
  {
   "cell_type": "code",
   "execution_count": null,
   "id": "9a1cae53",
   "metadata": {},
   "outputs": [],
   "source": []
  }
 ],
 "metadata": {
  "kernelspec": {
   "display_name": "Python 3 (ipykernel)",
   "language": "python",
   "name": "python3"
  },
  "language_info": {
   "codemirror_mode": {
    "name": "ipython",
    "version": 3
   },
   "file_extension": ".py",
   "mimetype": "text/x-python",
   "name": "python",
   "nbconvert_exporter": "python",
   "pygments_lexer": "ipython3",
   "version": "3.9.12"
  }
 },
 "nbformat": 4,
 "nbformat_minor": 5
}
