{
 "cells": [
  {
   "cell_type": "code",
   "execution_count": 1,
   "metadata": {},
   "outputs": [
    {
     "ename": "ModuleNotFoundError",
     "evalue": "No module named 'prv_accountant.other_accountants'",
     "output_type": "error",
     "traceback": [
      "\u001b[0;31m---------------------------------------------------------------------------\u001b[0m",
      "\u001b[0;31mModuleNotFoundError\u001b[0m                       Traceback (most recent call last)",
      "\u001b[0;32m<ipython-input-1-ef9126914aa9>\u001b[0m in \u001b[0;36m<module>\u001b[0;34m()\u001b[0m\n\u001b[1;32m      4\u001b[0m \u001b[0;34m\u001b[0m\u001b[0m\n\u001b[1;32m      5\u001b[0m \u001b[0;32mimport\u001b[0m \u001b[0mprv_accountant\u001b[0m\u001b[0;34m\u001b[0m\u001b[0;34m\u001b[0m\u001b[0m\n\u001b[0;32m----> 6\u001b[0;31m \u001b[0;32mimport\u001b[0m \u001b[0mprv_accountant\u001b[0m\u001b[0;34m.\u001b[0m\u001b[0mother_accountants\u001b[0m \u001b[0;32mas\u001b[0m \u001b[0moa\u001b[0m\u001b[0;34m\u001b[0m\u001b[0;34m\u001b[0m\u001b[0m\n\u001b[0m\u001b[1;32m      7\u001b[0m \u001b[0;32mimport\u001b[0m \u001b[0mprv_accountant\u001b[0m\u001b[0;34m.\u001b[0m\u001b[0maccountant\u001b[0m \u001b[0;32mas\u001b[0m \u001b[0mpa\u001b[0m\u001b[0;34m\u001b[0m\u001b[0;34m\u001b[0m\u001b[0m\n\u001b[1;32m      8\u001b[0m \u001b[0;32mimport\u001b[0m \u001b[0mprv_accountant\u001b[0m\u001b[0;34m.\u001b[0m\u001b[0mprivacy_random_variables\u001b[0m \u001b[0;32mas\u001b[0m \u001b[0mprvs\u001b[0m\u001b[0;34m\u001b[0m\u001b[0;34m\u001b[0m\u001b[0m\n",
      "\u001b[0;31mModuleNotFoundError\u001b[0m: No module named 'prv_accountant.other_accountants'"
     ]
    }
   ],
   "source": [
    "from tensorflow_privacy.privacy.analysis import rdp_accountant, gdp_accountant\n",
    "from tensorflow_privacy.privacy.analysis.rdp_accountant import compute_rdp\n",
    "from compute_rdp_general import compute_epsilon\n",
    "\n",
    "import prv_accountant\n",
    "import prv_accountant.other_accountants as oa\n",
    "import prv_accountant.accountant as pa\n",
    "import prv_accountant.privacy_random_variables as prvs\n",
    "# from prv_accountant import PRVAccountant\n",
    "# from prv_accountant import PoissonSubsampledGaussianMechanism\n",
    "import numpy as np\n",
    "import matplotlib.pyplot as plt\n",
    "sampling_probability = 1e-3\n",
    "noise_multiplier = 0.8\n",
    "delta = 1e-7\n",
    "num_compositions = 2000\n",
    "\n",
    "# prv = prvs.PoissonSubsampledGaussianMechanism(\n",
    "#         sampling_probability=sampling_probability,\n",
    "#         noise_multiplier=noise_multiplier)\n",
    "\n",
    "# prv_acc = pa.PRVAccountant(\n",
    "#     prvs=prv,\n",
    "#     max_self_compositions=num_compositions,\n",
    "#     eps_error=0.1,\n",
    "#     delta_error=delta/1000)\n",
    "\n",
    "# # rdp_acc = other_accountants.RDP(prvs=[prv])\n",
    "# rdp_acc = oa.RDP(prvs=[prv])\n",
    "\n",
    "nlist_gopi = np.unique(np.logspace(0,np.log10(2e3), dtype = int))\n",
    "\n",
    "# #Do FFT\n",
    "\n",
    "# eps_lower = []; eps_upper = []\n",
    "# for nn in nlist_gopi:\n",
    "#     eps_l , eps, eps_u = prv_acc.compute_epsilon(delta=delta, num_self_compositions= [nn])\n",
    "#     eps_lower.append(eps_l)\n",
    "#     eps_upper.append(eps_u)\n",
    "\n",
    "# #Do RDP\n",
    "\n",
    "# rdp_eps_lower = []; rdp_eps_upper = []; rdp_eps = []\n",
    "# for nn in nlist_gopi:\n",
    "#     rdp_eps_l , rdp_eps_t, rdp_eps_u = rdp_acc.compute_epsilon(delta=delta, num_self_compositions= [nn])\n",
    "#     rdp_eps.append(rdp_eps_t)\n",
    "#     rdp_eps_lower.append(rdp_eps_l)\n",
    "#     rdp_eps_upper.append(rdp_eps_u)\n",
    "\n",
    "\n",
    "# Do moments accountant\n",
    "from tensorflow_privacy.privacy.analysis.rdp_accountant import compute_rdp\n",
    "from tensorflow_privacy.privacy.analysis.rdp_accountant import get_privacy_spent\n",
    "\n",
    "def compute_epsilon(steps,orders,rdp_array,delta):\n",
    "  rdp_array = rdp_array*np.array(steps)\n",
    "  return get_privacy_spent(orders, rdp_array, target_delta=delta)[0]\n",
    "\n",
    "orders = [1 + x / 10. for x in range(1, 600)]\n",
    "rdp_g = compute_rdp(q=sampling_probability,\n",
    "                    noise_multiplier=noise_multiplier,\n",
    "                    steps=1,\n",
    "                    orders=orders)\n",
    "ma_eps=[]\n",
    "for nn in nlist_gopi:\n",
    "    ma_eps.append(compute_epsilon(nn,orders,rdp_g,delta)) \n",
    "\n",
    "#Do GDP\n",
    "\n",
    "def compute_eps_gdp(steps):\n",
    "    batch_size = 1000 #?? wtf is this\n",
    "    n = batch_size/sampling_probability\n",
    "    epoch = steps*sampling_probability\n",
    "    eps = gdp_accountant.compute_eps_poisson(epoch, noise_multiplier, n, batch_size, delta)\n",
    "    return 0.0, eps, float('inf')\n",
    "  \n",
    "gdp_eps = [] \n",
    "for nn in nlist_gopi:\n",
    "    _, gdp_eps_true, _ = compute_eps_gdp(nn)\n",
    "    gdp_eps.append(gdp_eps_true)\n"
   ]
  },
  {
   "cell_type": "code",
   "execution_count": 5,
   "metadata": {},
   "outputs": [
    {
     "data": {
      "image/png": "[encoded data removed]",
      "text/plain": [
       "<Figure size 432x288 with 1 Axes>"
      ]
     },
     "metadata": {
      "needs_background": "light"
     },
     "output_type": "display_data"
    }
   ],
   "source": [
    "#plot them \n",
    "\n",
    "# plt.plot(nlist_gopi, eps_lower, '--gx', label = 'Gopi')\n",
    "# plt.plot(nlist_gopi, eps_upper, '--go')\n",
    "# plt.plot(nlist_gopi, rdp_eps, '--yo', label = 'RDP')\n",
    "plt.plot(nlist_gopi, gdp_eps, '--yo', label = 'GDP')\n",
    "plt.plot(nlist_gopi, ma_eps, '--ro', label = 'MA')\n",
    "plt.legend(fontsize=\"x-small\"); plt.xlabel('DPSGD Steps'); plt.ylabel('$\\epsilon$'); plt.ylim([0,2.5]);"
   ]
  },
  {
   "cell_type": "code",
   "execution_count": null,
   "metadata": {},
   "outputs": [],
   "source": []
  },
  {
   "cell_type": "code",
   "execution_count": null,
   "metadata": {},
   "outputs": [],
   "source": []
  }
 ],
 "metadata": {
  "kernelspec": {
   "display_name": "Python 3 (ipykernel)",
   "language": "python",
   "name": "python3"
  },
  "language_info": {
   "codemirror_mode": {
    "name": "ipython",
    "version": 3
   },
   "file_extension": ".py",
   "mimetype": "text/x-python",
   "name": "python",
   "nbconvert_exporter": "python",
   "pygments_lexer": "ipython3",
   "version": "3.9.12"
  }
 },
 "nbformat": 4,
 "nbformat_minor": 2
}
