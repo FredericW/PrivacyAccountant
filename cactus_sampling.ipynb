{
 "cells": [
  {
   "cell_type": "code",
   "execution_count": null,
   "metadata": {},
   "outputs": [],
   "source": [
    "# Taking a number of samples from a given cactus distribution\n",
    "# Last Update: 10/19/2021\n",
    "# Please make sure you have the files needed in \"privacy_data\""
   ]
  },
  {
   "cell_type": "code",
   "execution_count": 2,
   "metadata": {},
   "outputs": [
    {
     "name": "stdout",
     "output_type": "stream",
     "text": [
      "(50000,)\n",
      "[ 0.83848422 -0.15273619 -0.01431785 ...  0.19842562 -0.17364621\n",
      " -0.51810626]\n"
     ]
    }
   ],
   "source": [
    "import numpy as np\n",
    "import csv\n",
    "\n",
    "\n",
    "variance = 0.1\n",
    "sen = 1\n",
    "r = 0.9\n",
    "\n",
    "filename = ('privacy_data/cactus_cdf_d%.1f_v%.2f.csv' %(sen,variance))\n",
    "cdf = np.genfromtxt(filename, dtype=np.float32).reshape(-1)\n",
    "\n",
    "filename = ('privacy_data/cactus_x_d%.1f_v%.2f.csv' %(sen,variance))\n",
    "x = np.genfromtxt(filename, dtype=np.float32).reshape(-1)\n",
    "\n",
    "l=len(x)\n",
    "n=l//max(x)//2\n",
    "total_num=50000\n",
    "\n",
    "temp=np.empty(total_num)\n",
    "\n",
    "for m in range(total_num):\n",
    "  rand=np.random.uniform(0,1,1)\n",
    "  rand2=np.random.uniform(0,1,1)\n",
    "  rand3=np.random.uniform(0,1,1)\n",
    "\n",
    "  i = np.argwhere(rand<cdf)[0]\n",
    "  s = x[i]\n",
    "  if i==0 or i==l-1:\n",
    "    j=np.floor(np.log(rand2)/log(r))\n",
    "    if i==0:\n",
    "      s = s-j/n\n",
    "    else:\n",
    "      s = s+j/n\n",
    "  sample=s+(rand3-0.5)/n\n",
    "  temp[m] = sample\n",
    "\n",
    "filename = ('privacy_data/cactus_samples_d%1.1f_v%1.2f.npy' %(sen, variance))\n",
    "np.save(filename, temp)\n",
    "\n",
    "data=np.load(filename)    "
   ]
  },
  {
   "cell_type": "code",
   "execution_count": null,
   "metadata": {},
   "outputs": [],
   "source": []
  },
  {
   "cell_type": "code",
   "execution_count": null,
   "metadata": {},
   "outputs": [],
   "source": []
  }
 ],
 "metadata": {
  "kernelspec": {
   "display_name": "privacy",
   "language": "python",
   "name": "privacy"
  },
  "language_info": {
   "codemirror_mode": {
    "name": "ipython",
    "version": 3
   },
   "file_extension": ".py",
   "mimetype": "text/x-python",
   "name": "python",
   "nbconvert_exporter": "python",
   "pygments_lexer": "ipython3",
   "version": "3.8.5"
  }
 },
 "nbformat": 4,
 "nbformat_minor": 2
}
