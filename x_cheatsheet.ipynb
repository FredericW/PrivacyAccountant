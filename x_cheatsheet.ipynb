{
 "cells": [
  {
   "cell_type": "code",
   "execution_count": null,
   "metadata": {},
   "outputs": [],
   "source": [
    "# This is a cheatsheet for Jupyter\n",
    "# Last Update: Who cares? by Fei"
   ]
  },
  {
   "cell_type": "code",
   "execution_count": 1,
   "metadata": {},
   "outputs": [
    {
     "ename": "SyntaxError",
     "evalue": "invalid syntax (<ipython-input-1-8462eb2c043a>, line 2)",
     "output_type": "error",
     "traceback": [
      "\u001b[0;36m  File \u001b[0;32m\"<ipython-input-1-8462eb2c043a>\"\u001b[0;36m, line \u001b[0;32m2\u001b[0m\n\u001b[0;31m    source activate privacy\u001b[0m\n\u001b[0m           ^\u001b[0m\n\u001b[0;31mSyntaxError\u001b[0m\u001b[0;31m:\u001b[0m invalid syntax\n"
     ]
    }
   ],
   "source": [
    "# the good conda env\n",
    "source activate privacy\n",
    "\n",
    "\n",
    "# load useful modules\n",
    "!module -l avail\n",
    "module load cudnn/8.1.0\n",
    "module load cuda/11.2.0\n",
    "\n",
    "# paths for tests\n",
    "cd privacy\n",
    "python test_code/mnist_dpsgd_test_keras_vectorized.py\n",
    "python tutorials/mnist_dpsgd_tutorial.py\n",
    "python tutorials/mnist_dpsgd_tutorial_keras.py\n",
    "python tutorials/mnist_dpsgd_tutorial_keras_model.py\n",
    "\n",
    "# create conda envs\n",
    "conda create --name lalalalala\n",
    "\n",
    "# install packages to (current) conda env\n",
    "conda install -c conda-forge the-package-you-want\n",
    "\n",
    "# add conda envs as jupyter kernels\n",
    "conda install -c anaconda ipykernel\n",
    "python -m ipykernel install --user --name=mamamiya\n",
    "\n",
    "# list available jupyter kernels\n",
    "jupyter kernelspec list\n",
    "\n",
    "# uninstall a jupyter kernel\n",
    "jupyter kernelspec uninstall useless-kernel"
   ]
  },
  {
   "cell_type": "code",
   "execution_count": null,
   "metadata": {},
   "outputs": [
    {
     "name": "stdout",
     "output_type": "stream",
     "text": [
      "Cloning into 'SaddlePoint'...\n",
      "\n",
      "(gnome-ssh-askpass:14811): Gtk-\u001b[1;33mWARNING\u001b[0m **: \u001b[34m12:35:48.267\u001b[0m: cannot open display: \n",
      "error: unable to read askpass response from '/usr/libexec/openssh/gnome-ssh-askpass'\n",
      "Username for 'https://github.com': "
     ]
    }
   ],
   "source": [
    "!cd /home/fwei16\n",
    "# !rm -rf privacy\n",
    "# !git clone https://github.com/FredericW/privacy.git\n",
    "!git clone https://github.com/FredericW/SaddlePoint.git"
   ]
  },
  {
   "cell_type": "code",
   "execution_count": null,
   "metadata": {},
   "outputs": [],
   "source": [
    "FredericW"
   ]
  },
  {
   "cell_type": "code",
   "execution_count": null,
   "metadata": {},
   "outputs": [],
   "source": []
  }
 ],
 "metadata": {
  "kernelspec": {
   "display_name": "privacy",
   "language": "python",
   "name": "privacy"
  },
  "language_info": {
   "codemirror_mode": {
    "name": "ipython",
    "version": 3
   },
   "file_extension": ".py",
   "mimetype": "text/x-python",
   "name": "python",
   "nbconvert_exporter": "python",
   "pygments_lexer": "ipython3",
   "version": "3.8.5"
  }
 },
 "nbformat": 4,
 "nbformat_minor": 2
}
